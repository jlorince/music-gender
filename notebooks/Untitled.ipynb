{
 "cells": [
  {
   "cell_type": "code",
   "execution_count": 1,
   "metadata": {
    "collapsed": true
   },
   "outputs": [],
   "source": [
    "import pandas as pd\n",
    "import numpy as np\n",
    "from matplotlib import pyplot as plt\n",
    "%matplotlib inline\n",
    "from tqdm import tqdm_notebook as tq"
   ]
  },
  {
   "cell_type": "code",
   "execution_count": 3,
   "metadata": {
    "collapsed": false,
    "scrolled": true
   },
   "outputs": [
    {
     "name": "stderr",
     "output_type": "stream",
     "text": [
      "/Users/jaredlorince/anaconda3/lib/python3.5/site-packages/IPython/core/interactiveshell.py:2717: DtypeWarning: Columns (17,19,21) have mixed types. Specify dtype option on import or set low_memory=False.\n",
      "  interactivity=interactivity, compiler=compiler, result=result)\n"
     ]
    }
   ],
   "source": [
    "artists = pd.read_table('/Users/jaredlorince/Downloads/Artist_Gender_v2.txt')"
   ]
  },
  {
   "cell_type": "code",
   "execution_count": 4,
   "metadata": {
    "collapsed": false
   },
   "outputs": [
    {
     "name": "stdout",
     "output_type": "stream",
     "text": [
      "Index(['artistCreditname', 'artistCreditID', 'echonest_artist_id',\n",
      "       'commonArtistKey', 'gender', 'bandName', 'bandArtistCreditID',\n",
      "       'bandCommonArtistKey', 'start_1', 'end_1', 'begin_date_year',\n",
      "       'begin_date_month', 'begin_date_day', 'end_date_year', 'end_date_month',\n",
      "       'end_date_day', 'location_1', 'location_2', 'location_3', 'area',\n",
      "       'genres'],\n",
      "      dtype='object')\n"
     ]
    },
    {
     "data": {
      "text/html": [
       "<div>\n",
       "<table border=\"1\" class=\"dataframe\">\n",
       "  <thead>\n",
       "    <tr style=\"text-align: right;\">\n",
       "      <th></th>\n",
       "      <th>artistCreditname</th>\n",
       "      <th>artistCreditID</th>\n",
       "      <th>echonest_artist_id</th>\n",
       "      <th>commonArtistKey</th>\n",
       "      <th>gender</th>\n",
       "      <th>bandName</th>\n",
       "      <th>bandArtistCreditID</th>\n",
       "      <th>bandCommonArtistKey</th>\n",
       "      <th>start_1</th>\n",
       "      <th>end_1</th>\n",
       "      <th>...</th>\n",
       "      <th>begin_date_month</th>\n",
       "      <th>begin_date_day</th>\n",
       "      <th>end_date_year</th>\n",
       "      <th>end_date_month</th>\n",
       "      <th>end_date_day</th>\n",
       "      <th>location_1</th>\n",
       "      <th>location_2</th>\n",
       "      <th>location_3</th>\n",
       "      <th>area</th>\n",
       "      <th>genres</th>\n",
       "    </tr>\n",
       "  </thead>\n",
       "  <tbody>\n",
       "    <tr>\n",
       "      <th>1</th>\n",
       "      <td>Akhenaton feat. Toko</td>\n",
       "      <td>891412</td>\n",
       "      <td>NaN</td>\n",
       "      <td>1814231.0</td>\n",
       "      <td>Male</td>\n",
       "      <td>NaN</td>\n",
       "      <td>NaN</td>\n",
       "      <td>NaN</td>\n",
       "      <td>NaN</td>\n",
       "      <td>NaN</td>\n",
       "      <td>...</td>\n",
       "      <td>9.0</td>\n",
       "      <td>17.0</td>\n",
       "      <td>NaN</td>\n",
       "      <td>NaN</td>\n",
       "      <td>NaN</td>\n",
       "      <td>NaN</td>\n",
       "      <td>NaN</td>\n",
       "      <td>NaN</td>\n",
       "      <td>France</td>\n",
       "      <td>NaN</td>\n",
       "    </tr>\n",
       "    <tr>\n",
       "      <th>3</th>\n",
       "      <td>Amanda Palmer with Mikelangelo &amp; Lance Horne</td>\n",
       "      <td>891557</td>\n",
       "      <td>NaN</td>\n",
       "      <td>1814264.0</td>\n",
       "      <td>Female</td>\n",
       "      <td>NaN</td>\n",
       "      <td>NaN</td>\n",
       "      <td>NaN</td>\n",
       "      <td>NaN</td>\n",
       "      <td>NaN</td>\n",
       "      <td>...</td>\n",
       "      <td>4.0</td>\n",
       "      <td>30.0</td>\n",
       "      <td>NaN</td>\n",
       "      <td>NaN</td>\n",
       "      <td>NaN</td>\n",
       "      <td>NaN</td>\n",
       "      <td>NaN</td>\n",
       "      <td>NaN</td>\n",
       "      <td>United States</td>\n",
       "      <td>NaN</td>\n",
       "    </tr>\n",
       "    <tr>\n",
       "      <th>4</th>\n",
       "      <td>Garry Shider</td>\n",
       "      <td>891652</td>\n",
       "      <td>NaN</td>\n",
       "      <td>1814283.0</td>\n",
       "      <td>Male</td>\n",
       "      <td>NaN</td>\n",
       "      <td>NaN</td>\n",
       "      <td>NaN</td>\n",
       "      <td>NaN</td>\n",
       "      <td>NaN</td>\n",
       "      <td>...</td>\n",
       "      <td>7.0</td>\n",
       "      <td>24.0</td>\n",
       "      <td>2010.0</td>\n",
       "      <td>6.0</td>\n",
       "      <td>16.0</td>\n",
       "      <td>NaN</td>\n",
       "      <td>NaN</td>\n",
       "      <td>NaN</td>\n",
       "      <td>United States</td>\n",
       "      <td>NaN</td>\n",
       "    </tr>\n",
       "    <tr>\n",
       "      <th>6</th>\n",
       "      <td>Eric Saade feat. Dev</td>\n",
       "      <td>891676</td>\n",
       "      <td>NaN</td>\n",
       "      <td>1814288.0</td>\n",
       "      <td>Male</td>\n",
       "      <td>NaN</td>\n",
       "      <td>NaN</td>\n",
       "      <td>NaN</td>\n",
       "      <td>NaN</td>\n",
       "      <td>NaN</td>\n",
       "      <td>...</td>\n",
       "      <td>10.0</td>\n",
       "      <td>29.0</td>\n",
       "      <td>NaN</td>\n",
       "      <td>NaN</td>\n",
       "      <td>NaN</td>\n",
       "      <td>NaN</td>\n",
       "      <td>NaN</td>\n",
       "      <td>NaN</td>\n",
       "      <td>Sweden</td>\n",
       "      <td>NaN</td>\n",
       "    </tr>\n",
       "    <tr>\n",
       "      <th>7</th>\n",
       "      <td>DJ Fresh vs. DJ Shadow feat. Sally Drury &amp; MC ...</td>\n",
       "      <td>891855</td>\n",
       "      <td>NaN</td>\n",
       "      <td>1814317.0</td>\n",
       "      <td>Male</td>\n",
       "      <td>NaN</td>\n",
       "      <td>NaN</td>\n",
       "      <td>NaN</td>\n",
       "      <td>NaN</td>\n",
       "      <td>NaN</td>\n",
       "      <td>...</td>\n",
       "      <td>4.0</td>\n",
       "      <td>11.0</td>\n",
       "      <td>NaN</td>\n",
       "      <td>NaN</td>\n",
       "      <td>NaN</td>\n",
       "      <td>NaN</td>\n",
       "      <td>NaN</td>\n",
       "      <td>NaN</td>\n",
       "      <td>United Kingdom</td>\n",
       "      <td>NaN</td>\n",
       "    </tr>\n",
       "  </tbody>\n",
       "</table>\n",
       "<p>5 rows × 21 columns</p>\n",
       "</div>"
      ],
      "text/plain": [
       "                                    artistCreditname  artistCreditID  \\\n",
       "1                               Akhenaton feat. Toko          891412   \n",
       "3       Amanda Palmer with Mikelangelo & Lance Horne          891557   \n",
       "4                                       Garry Shider          891652   \n",
       "6                               Eric Saade feat. Dev          891676   \n",
       "7  DJ Fresh vs. DJ Shadow feat. Sally Drury & MC ...          891855   \n",
       "\n",
       "  echonest_artist_id  commonArtistKey  gender bandName  bandArtistCreditID  \\\n",
       "1                NaN        1814231.0    Male      NaN                 NaN   \n",
       "3                NaN        1814264.0  Female      NaN                 NaN   \n",
       "4                NaN        1814283.0    Male      NaN                 NaN   \n",
       "6                NaN        1814288.0    Male      NaN                 NaN   \n",
       "7                NaN        1814317.0    Male      NaN                 NaN   \n",
       "\n",
       "   bandCommonArtistKey  start_1  end_1  ...    begin_date_month  \\\n",
       "1                  NaN      NaN    NaN  ...                 9.0   \n",
       "3                  NaN      NaN    NaN  ...                 4.0   \n",
       "4                  NaN      NaN    NaN  ...                 7.0   \n",
       "6                  NaN      NaN    NaN  ...                10.0   \n",
       "7                  NaN      NaN    NaN  ...                 4.0   \n",
       "\n",
       "   begin_date_day  end_date_year  end_date_month  end_date_day  location_1  \\\n",
       "1            17.0            NaN             NaN           NaN         NaN   \n",
       "3            30.0            NaN             NaN           NaN         NaN   \n",
       "4            24.0         2010.0             6.0          16.0         NaN   \n",
       "6            29.0            NaN             NaN           NaN         NaN   \n",
       "7            11.0            NaN             NaN           NaN         NaN   \n",
       "\n",
       "  location_2 location_3            area genres  \n",
       "1        NaN        NaN          France    NaN  \n",
       "3        NaN        NaN   United States    NaN  \n",
       "4        NaN        NaN   United States    NaN  \n",
       "6        NaN        NaN          Sweden    NaN  \n",
       "7        NaN        NaN  United Kingdom    NaN  \n",
       "\n",
       "[5 rows x 21 columns]"
      ]
     },
     "execution_count": 4,
     "metadata": {},
     "output_type": "execute_result"
    }
   ],
   "source": [
    "print(artists.columns)\n",
    "artists.head()"
   ]
  },
  {
   "cell_type": "code",
   "execution_count": 6,
   "metadata": {
    "collapsed": false
   },
   "outputs": [
    {
     "name": "stdout",
     "output_type": "stream",
     "text": [
      "['ARGJTO11187FB39AC0', '10953', 'Ernest Tubb', 'Listen NULL', 'NULL', 'Listen  ', \"  You Don't Have to Be a Baby to Cry\", '2', '0.58986200', '0.41670100', '78.33200', '0.03199700', '0.27658900', '1', '4', '135.9066700', '-13.9010', '0.77096600', '0.62278500', '0.00000000', 'NULL', 'NULL', 'NULL', 'NULL']\n",
      "['ARAQFGJ1187FB3919E', '45124', 'Marco Carola', '7. NULL', 'NULL', '7.', 'Rilis 4.5 A1 (Marco Carola rmx)', '6', '0.82385900', '0.09586300', '128.01700', '0.06028500', '0.00020200', '1', '4', '377.0777800', '-10.9580', '0.43023000', '0.80416800', '0.00000000', 'NULL', 'NULL', 'NULL', 'NULL']\n",
      "['ARU3GXR1187FB38DDB', '308801', 'Lambert Wilson', '10. NULL', 'NULL', '10.', 'The Man between two ages and his two Mistresses - Boston', '2', '0.19110000', '0.30331800', '79.82600', '0.04964600', '0.73960800', '1', '3', '225.8262100', '-16.4110', '0.26367400', '0.27805100', '0.00000000', 'NULL', 'NULL', 'NULL', 'NULL']\n",
      "['ARZCAIW1241B9C4AAF', '1128920', 'Lelio Luttazzi', '6 NULL', 'NULL', '6 ', \"Lasciare o raddoppiare (O.S.T. From the Film Toto' lascia o raddoppia)\", '1', '0.22987600', '0.49146700', '75.21000', '0.09099200', '0.99264300', '0', '4', '160.7333300', '-11.8750', '0.47705900', '0.60557700', '0.00000000', 'NULL', 'NULL', 'NULL', 'NULL']\n",
      "\n"
     ]
    }
   ],
   "source": [
    "#f = open('/Users/jaredlorince/Downloads/Tracks_Gender.txt')\n",
    "f = open('/Users/jaredlorince/Downloads/TracksWithGenderedArtistsAndTheirBands.rpt')\n",
    "\n",
    "f.seek(10)\n",
    "f.readline()\n",
    "with open('/Users/jaredlorince/Downloads/Tracks_Fixed.txt','w') as out:\n",
    "    for line in tq(f):\n",
    "        if 'row(s) affected' in line:\n",
    "            continue\n",
    "        if line.strip()=='':\n",
    "            continue\n",
    "        line = line.replace('\"','').split('\\t')\n",
    "        if line[1] in ['NULL','NA','','\"NULL\"','\"NA\"','']:\n",
    "            continue\n",
    "        if line[3] in ['SOFMRUO130516E1AD6','SOMSIVH1374ED06602','SOECIEK131343884B0','SOQTFFS13E697E9BDC']:\n",
    "            a = line[5]\n",
    "            b = line.pop()   \n",
    "            line[3] = ' '.join([a.strip(),b.strip()])\n",
    "        if line[6] not in ['NULL','NA','','\"NULL\"','\"NA\"','','\"\"']:\n",
    "            try:\n",
    "                k = int(line[6].replace('\"',''))\n",
    "            except:\n",
    "                print(line)\n",
    "                continue\n",
    "\n",
    "        out.write('\\t'.join(line))\n"
   ]
  },
  {
   "cell_type": "code",
   "execution_count": 2,
   "metadata": {
    "collapsed": false
   },
   "outputs": [],
   "source": [
    "header = ['EN_ArtistID','MB_artistCreditID','artist_name','EN_SongID','MB_recordingID','Song_Title','Key','Energy','Liveness','Tempo','Speechiness','Acousticness','Mode','TimeSignature','Duration','Loudness','Valence','Danceability','Song_Hotttnesss','earliestReleaseDate','mediumID','releaseName','country','label_name']\n",
    "tracks = pd.read_table('/Users/jaredlorince/Downloads/Tracks_Fixed.txt',header=None,names=header,low_memory=False,na_values=['NA','NULL'])\n",
    "# tracks = {h:[] for h in header}\n",
    "# for line in tq(open('/Users/jaredlorince/Downloads/Tracks_fixed.txt')):\n",
    "#     for col,h in zip(line.split('\\t')[1:],header):\n",
    "#         col = col.replace('\"','').strip()\n",
    "#         if col =='NULL' or col =='':\n",
    "#             col = np.nan\n",
    "#         tracks[h].append(col)\n",
    "# tracks = pd.DataFrame(tracks,dtype=ype=)        \n",
    "# tracks = tracks[header].dropna(subset=['artist_name'])"
   ]
  },
  {
   "cell_type": "code",
   "execution_count": 57,
   "metadata": {
    "collapsed": false
   },
   "outputs": [],
   "source": [
    "# export = tracks.dropna(subset=['earliestReleaseDate'])\n",
    "# export['year'] = export.earliestReleaseDate.apply(lambda x: int(x.split('-')[0]))\n",
    "# export = export[['Energy','Liveness','Speechiness','Acousticness','Valence','Danceability','year','EN_SongID']].dropna()\n",
    "# np.save('/Users/jaredlorince/Desktop/echonest_features.npy',export[['Energy','Liveness','Speechiness','Acousticness','Valence','Danceability']])\n",
    "# np.save('/Users/jaredlorince/Desktop/index_years.npy',export.year.values)\n",
    "with open('/Users/jaredlorince/Desktop/song_indices_echonest','w') as out:\n",
    "    for en in export.EN_SongID.values:\n",
    "        out.write(en+'\\n')"
   ]
  },
  {
   "cell_type": "code",
   "execution_count": 87,
   "metadata": {
    "collapsed": false,
    "scrolled": false
   },
   "outputs": [
    {
     "name": "stdout",
     "output_type": "stream",
     "text": [
      "\n"
     ]
    }
   ],
   "source": [
    "bins = np.arange(1950,2016,5)\n",
    "min_songs = 20000\n",
    "bin_indices = np.digitize(index_years,bins)\n",
    "unique_bins,bin_counts = np.unique(bin_indices,return_counts=True) \n",
    "def legal_bin(i,b):\n",
    "    if (b==0) or (b>=len(bins)):\n",
    "        return False\n",
    "    if bin_counts[i] < min_songs:\n",
    "        return False\n",
    "    return True\n",
    "allowed_bins = [b for i,b in enumerate(unique_bins) if legal_bin(i,b)]\n",
    "songs_per_bin = bin_counts[allowed_bins].min()\n",
    "indices = []\n",
    "for b in tq(allowed_bins):\n",
    "    idx_current = np.random.choice(np.where(bin_indices==b)[0],songs_per_bin,replace=False)\n",
    "    indices.append(idx_current)\n",
    "indices = np.concatenate(indices)"
   ]
  },
  {
   "cell_type": "code",
   "execution_count": 115,
   "metadata": {
    "collapsed": false
   },
   "outputs": [
    {
     "data": {
      "text/plain": [
       "(748750, 748750)"
      ]
     },
     "execution_count": 115,
     "metadata": {},
     "output_type": "execute_result"
    }
   ],
   "source": [
    "index_years_sampled = index_years[indices]\n",
    "untrained = np.ones(len(bin_indices),dtype=int)\n",
    "untrained[indices] = 0\n",
    "untrained[np.where(~np.in1d(bin_indices,allowed_bins))[0]]=0\n",
    "untrained.sum(),bin_counts[allowed_bins].sum() - len(indices)"
   ]
  },
  {
   "cell_type": "code",
   "execution_count": null,
   "metadata": {
    "collapsed": false
   },
   "outputs": [],
   "source": [
    "gender_by_group = artists.dropna(subset=['bandCommonArtistKey']).groupby('bandCommonArtistKey').apply(lambda grp: grp.gender.value_counts())"
   ]
  },
  {
   "cell_type": "code",
   "execution_count": null,
   "metadata": {
    "collapsed": false
   },
   "outputs": [],
   "source": [
    "def is_mixed(grp):\n",
    "    if np.all(grp.gender.values=='Male'):\n",
    "        return 'Male'\n",
    "    elif np.all(grp.gender.values=='Female'):\n",
    "        return 'Female'\n",
    "    elif ('Male' in grp.gender.values) and ('Female' in grp.gender.values):\n",
    "        return 'Mixed'\n",
    "    else:\n",
    "        return 'Other'\n",
    "\n",
    "gender_mixes = artists.dropna(subset=['bandCommonArtistKey']).groupby('bandCommonArtistKey').apply(is_mixed)    "
   ]
  },
  {
   "cell_type": "code",
   "execution_count": null,
   "metadata": {
    "collapsed": false
   },
   "outputs": [],
   "source": [
    "gender_mixes.value_counts().plot(kind='bar')"
   ]
  },
  {
   "cell_type": "code",
   "execution_count": 8,
   "metadata": {
    "collapsed": false
   },
   "outputs": [
    {
     "data": {
      "text/html": [
       "<div>\n",
       "<table border=\"1\" class=\"dataframe\">\n",
       "  <thead>\n",
       "    <tr style=\"text-align: right;\">\n",
       "      <th></th>\n",
       "      <th>Key</th>\n",
       "      <th>Energy</th>\n",
       "      <th>Liveness</th>\n",
       "      <th>Tempo</th>\n",
       "      <th>Speechiness</th>\n",
       "      <th>Acousticness</th>\n",
       "      <th>Mode</th>\n",
       "      <th>TimeSignature</th>\n",
       "      <th>Duration</th>\n",
       "      <th>Loudness</th>\n",
       "      <th>Valence</th>\n",
       "      <th>Danceability</th>\n",
       "    </tr>\n",
       "  </thead>\n",
       "  <tbody>\n",
       "    <tr>\n",
       "      <th>count</th>\n",
       "      <td>3.688219e+06</td>\n",
       "      <td>3.688219e+06</td>\n",
       "      <td>3.688216e+06</td>\n",
       "      <td>3.688219e+06</td>\n",
       "      <td>3.680772e+06</td>\n",
       "      <td>3.688218e+06</td>\n",
       "      <td>3.688219e+06</td>\n",
       "      <td>3.688219e+06</td>\n",
       "      <td>3.688219e+06</td>\n",
       "      <td>3.688219e+06</td>\n",
       "      <td>3.687869e+06</td>\n",
       "      <td>3.687936e+06</td>\n",
       "    </tr>\n",
       "    <tr>\n",
       "      <th>mean</th>\n",
       "      <td>3.922969e+00</td>\n",
       "      <td>5.026656e-01</td>\n",
       "      <td>2.245014e-01</td>\n",
       "      <td>1.163410e+02</td>\n",
       "      <td>1.051250e-01</td>\n",
       "      <td>4.779224e-01</td>\n",
       "      <td>6.630162e-01</td>\n",
       "      <td>3.838479e+00</td>\n",
       "      <td>2.571802e+02</td>\n",
       "      <td>-1.190776e+01</td>\n",
       "      <td>4.796950e-01</td>\n",
       "      <td>5.315162e-01</td>\n",
       "    </tr>\n",
       "    <tr>\n",
       "      <th>std</th>\n",
       "      <td>3.071439e+00</td>\n",
       "      <td>2.782849e-01</td>\n",
       "      <td>2.049300e-01</td>\n",
       "      <td>2.997724e+01</td>\n",
       "      <td>1.633201e-01</td>\n",
       "      <td>3.782120e-01</td>\n",
       "      <td>4.726794e-01</td>\n",
       "      <td>5.664797e-01</td>\n",
       "      <td>1.885587e+02</td>\n",
       "      <td>6.335470e+00</td>\n",
       "      <td>2.705493e-01</td>\n",
       "      <td>1.839351e-01</td>\n",
       "    </tr>\n",
       "    <tr>\n",
       "      <th>min</th>\n",
       "      <td>0.000000e+00</td>\n",
       "      <td>0.000000e+00</td>\n",
       "      <td>0.000000e+00</td>\n",
       "      <td>0.000000e+00</td>\n",
       "      <td>0.000000e+00</td>\n",
       "      <td>0.000000e+00</td>\n",
       "      <td>0.000000e+00</td>\n",
       "      <td>0.000000e+00</td>\n",
       "      <td>4.451700e-01</td>\n",
       "      <td>-6.000000e+01</td>\n",
       "      <td>0.000000e+00</td>\n",
       "      <td>0.000000e+00</td>\n",
       "    </tr>\n",
       "    <tr>\n",
       "      <th>25%</th>\n",
       "      <td>1.000000e+00</td>\n",
       "      <td>2.683960e-01</td>\n",
       "      <td>9.811200e-02</td>\n",
       "      <td>9.298750e+01</td>\n",
       "      <td>3.579300e-02</td>\n",
       "      <td>6.742300e-02</td>\n",
       "      <td>0.000000e+00</td>\n",
       "      <td>4.000000e+00</td>\n",
       "      <td>1.754118e+02</td>\n",
       "      <td>-1.518400e+01</td>\n",
       "      <td>2.493240e-01</td>\n",
       "      <td>4.014710e-01</td>\n",
       "    </tr>\n",
       "    <tr>\n",
       "      <th>50%</th>\n",
       "      <td>4.000000e+00</td>\n",
       "      <td>5.045810e-01</td>\n",
       "      <td>1.346830e-01</td>\n",
       "      <td>1.158950e+02</td>\n",
       "      <td>4.676400e-02</td>\n",
       "      <td>4.786200e-01</td>\n",
       "      <td>1.000000e+00</td>\n",
       "      <td>4.000000e+00</td>\n",
       "      <td>2.256294e+02</td>\n",
       "      <td>-1.047300e+01</td>\n",
       "      <td>4.780410e-01</td>\n",
       "      <td>5.455800e-01</td>\n",
       "    </tr>\n",
       "    <tr>\n",
       "      <th>75%</th>\n",
       "      <td>7.000000e+00</td>\n",
       "      <td>7.390970e-01</td>\n",
       "      <td>2.863543e-01</td>\n",
       "      <td>1.340790e+02</td>\n",
       "      <td>8.258000e-02</td>\n",
       "      <td>8.683150e-01</td>\n",
       "      <td>1.000000e+00</td>\n",
       "      <td>4.000000e+00</td>\n",
       "      <td>2.928395e+02</td>\n",
       "      <td>-7.215000e+00</td>\n",
       "      <td>7.024460e-01</td>\n",
       "      <td>6.709960e-01</td>\n",
       "    </tr>\n",
       "    <tr>\n",
       "      <th>max</th>\n",
       "      <td>9.000000e+00</td>\n",
       "      <td>9.999900e-01</td>\n",
       "      <td>1.000000e+00</td>\n",
       "      <td>2.779970e+02</td>\n",
       "      <td>9.746270e-01</td>\n",
       "      <td>9.999870e-01</td>\n",
       "      <td>1.000000e+00</td>\n",
       "      <td>7.000000e+00</td>\n",
       "      <td>6.008267e+03</td>\n",
       "      <td>5.924000e+00</td>\n",
       "      <td>9.999900e-01</td>\n",
       "      <td>9.964450e-01</td>\n",
       "    </tr>\n",
       "  </tbody>\n",
       "</table>\n",
       "</div>"
      ],
      "text/plain": [
       "                Key        Energy      Liveness         Tempo   Speechiness  \\\n",
       "count  3.688219e+06  3.688219e+06  3.688216e+06  3.688219e+06  3.680772e+06   \n",
       "mean   3.922969e+00  5.026656e-01  2.245014e-01  1.163410e+02  1.051250e-01   \n",
       "std    3.071439e+00  2.782849e-01  2.049300e-01  2.997724e+01  1.633201e-01   \n",
       "min    0.000000e+00  0.000000e+00  0.000000e+00  0.000000e+00  0.000000e+00   \n",
       "25%    1.000000e+00  2.683960e-01  9.811200e-02  9.298750e+01  3.579300e-02   \n",
       "50%    4.000000e+00  5.045810e-01  1.346830e-01  1.158950e+02  4.676400e-02   \n",
       "75%    7.000000e+00  7.390970e-01  2.863543e-01  1.340790e+02  8.258000e-02   \n",
       "max    9.000000e+00  9.999900e-01  1.000000e+00  2.779970e+02  9.746270e-01   \n",
       "\n",
       "       Acousticness          Mode  TimeSignature      Duration      Loudness  \\\n",
       "count  3.688218e+06  3.688219e+06   3.688219e+06  3.688219e+06  3.688219e+06   \n",
       "mean   4.779224e-01  6.630162e-01   3.838479e+00  2.571802e+02 -1.190776e+01   \n",
       "std    3.782120e-01  4.726794e-01   5.664797e-01  1.885587e+02  6.335470e+00   \n",
       "min    0.000000e+00  0.000000e+00   0.000000e+00  4.451700e-01 -6.000000e+01   \n",
       "25%    6.742300e-02  0.000000e+00   4.000000e+00  1.754118e+02 -1.518400e+01   \n",
       "50%    4.786200e-01  1.000000e+00   4.000000e+00  2.256294e+02 -1.047300e+01   \n",
       "75%    8.683150e-01  1.000000e+00   4.000000e+00  2.928395e+02 -7.215000e+00   \n",
       "max    9.999870e-01  1.000000e+00   7.000000e+00  6.008267e+03  5.924000e+00   \n",
       "\n",
       "            Valence  Danceability  \n",
       "count  3.687869e+06  3.687936e+06  \n",
       "mean   4.796950e-01  5.315162e-01  \n",
       "std    2.705493e-01  1.839351e-01  \n",
       "min    0.000000e+00  0.000000e+00  \n",
       "25%    2.493240e-01  4.014710e-01  \n",
       "50%    4.780410e-01  5.455800e-01  \n",
       "75%    7.024460e-01  6.709960e-01  \n",
       "max    9.999900e-01  9.964450e-01  "
      ]
     },
     "execution_count": 8,
     "metadata": {},
     "output_type": "execute_result"
    }
   ],
   "source": [
    "tracks[['Key', 'Energy', 'Liveness', 'Tempo','Speechiness', 'Acousticness', 'Mode', 'TimeSignature', 'Duration','Loudness', 'Valence', 'Danceability']].describe()"
   ]
  },
  {
   "cell_type": "code",
   "execution_count": null,
   "metadata": {
    "collapsed": false
   },
   "outputs": [],
   "source": [
    "features = tracks[['Energy','Liveness','Speechiness','Acousticness','Valence','Danceability']].dropna().values\n",
    "np.save('/Users/jaredlorince/Desktop/echonest_features.npy',features)"
   ]
  },
  {
   "cell_type": "code",
   "execution_count": null,
   "metadata": {
    "collapsed": false
   },
   "outputs": [],
   "source": [
    "coords = pd.read_table('/Users/jaredlorince/Desktop/echonest_features.npy.0M.lv_coords',skiprows=1,header=None,names=['x','y'],sep=' ')"
   ]
  },
  {
   "cell_type": "code",
   "execution_count": null,
   "metadata": {
    "collapsed": false
   },
   "outputs": [],
   "source": [
    "coords.head()"
   ]
  },
  {
   "cell_type": "code",
   "execution_count": null,
   "metadata": {
    "collapsed": false
   },
   "outputs": [],
   "source": [
    "plot_width  = int(900)\n",
    "plot_height = int(900)\n",
    "background = \"black\"\n",
    "\n",
    "from functools import partial\n",
    "import datashader as ds\n",
    "import datashader.transfer_functions as tf\n",
    "from datashader.utils import export_image\n",
    "from datashader.colors import colormap_select, Greys9, Hot, viridis, inferno\n",
    "from IPython.core.display import HTML, display\n",
    "\n",
    "export = partial(export_image, background = background, export_path=\"export\")\n",
    "cm = partial(colormap_select, reverse=(background!=\"black\"))\n",
    "\n",
    "\n",
    "#color_key = {i:colors[i] for i in (0,1)}\n",
    "        \n",
    "cvs = ds.Canvas(plot_width, plot_height)\n",
    "agg = cvs.points(coords, 'x', 'y',)# ds.count_cat('highlight'))\n",
    "img = tf.shade(agg, cmap = cm(Greys9),how='eq_hist') # color_key=color_key, \n",
    "#return img\n",
    "export(img,'temp')\n",
    "\n"
   ]
  },
  {
   "cell_type": "code",
   "execution_count": null,
   "metadata": {
    "collapsed": false
   },
   "outputs": [],
   "source": [
    "tracks[tracks.MB_artistCreditID==73904]"
   ]
  },
  {
   "cell_type": "code",
   "execution_count": null,
   "metadata": {
    "collapsed": false
   },
   "outputs": [],
   "source": [
    "gd = {}\n",
    "for g in artists.genres.dropna().values:\n",
    "    for genre in g.strip().split(','):\n",
    "        genre = genre.strip()\n",
    "        gd[genre] = gd.get(genre,0)+1"
   ]
  },
  {
   "cell_type": "code",
   "execution_count": null,
   "metadata": {
    "collapsed": false
   },
   "outputs": [],
   "source": [
    "top10 = pd.Series(gd).sort_values(ascending=False)[:10].index"
   ]
  },
  {
   "cell_type": "code",
   "execution_count": null,
   "metadata": {
    "collapsed": false
   },
   "outputs": [],
   "source": [
    "def f(g):\n",
    "    if pd.isnull(g):\n",
    "        return np.nan\n",
    "    for genre in g.strip().split(','):\n",
    "        if genre in top10:\n",
    "            return genre\n",
    "    return np.nan\n",
    "artists['temp_genre'] = artists.genres.apply(f)"
   ]
  },
  {
   "cell_type": "code",
   "execution_count": null,
   "metadata": {
    "collapsed": false
   },
   "outputs": [],
   "source": [
    "tracks.ix[tracks.Energy.argmax()]"
   ]
  },
  {
   "cell_type": "code",
   "execution_count": null,
   "metadata": {
    "collapsed": false
   },
   "outputs": [],
   "source": [
    "artists[artists.bandName=='Radiohead']"
   ]
  },
  {
   "cell_type": "code",
   "execution_count": null,
   "metadata": {
    "collapsed": false
   },
   "outputs": [],
   "source": [
    "tracks[tracks.Song_Title=='Karma Police']"
   ]
  },
  {
   "cell_type": "code",
   "execution_count": null,
   "metadata": {
    "collapsed": false
   },
   "outputs": [],
   "source": [
    "tracks.head()"
   ]
  },
  {
   "cell_type": "code",
   "execution_count": null,
   "metadata": {
    "collapsed": false,
    "scrolled": false
   },
   "outputs": [],
   "source": [
    "artists.reset_index().groupby(['bandName','gender'])['index'].count().sort_values()\n",
    "#artists.head(1000).groupby(['bandName','gender']).count()\n"
   ]
  },
  {
   "cell_type": "code",
   "execution_count": null,
   "metadata": {
    "collapsed": true
   },
   "outputs": [],
   "source": []
  }
 ],
 "metadata": {
  "kernelspec": {
   "display_name": "Python [conda root]",
   "language": "python",
   "name": "conda-root-py"
  },
  "language_info": {
   "codemirror_mode": {
    "name": "ipython",
    "version": 3
   },
   "file_extension": ".py",
   "mimetype": "text/x-python",
   "name": "python",
   "nbconvert_exporter": "python",
   "pygments_lexer": "ipython3",
   "version": "3.5.3"
  },
  "widgets": {
   "state": {
    "7e967a5cc6264456aa59b86ed10b7f6c": {
     "views": [
      {
       "cell_index": 6
      }
     ]
    }
   },
   "version": "1.2.0"
  }
 },
 "nbformat": 4,
 "nbformat_minor": 2
}
