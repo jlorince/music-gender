{
 "cells": [
  {
   "cell_type": "code",
   "execution_count": 15,
   "metadata": {
    "collapsed": true
   },
   "outputs": [],
   "source": [
    "import pandas as pd\n",
    "from scipy import sparse"
   ]
  },
  {
   "cell_type": "code",
   "execution_count": 2,
   "metadata": {
    "collapsed": true
   },
   "outputs": [],
   "source": [
    "df = pd.read_table('/Users/jaredlorince/Desktop/5759068.txt',header=None,names=['song','artist','ts'])"
   ]
  },
  {
   "cell_type": "code",
   "execution_count": 9,
   "metadata": {
    "collapsed": false
   },
   "outputs": [],
   "source": [
    "df['last'] = df['artist'].shift(1)\n",
    "df = df.dropna()"
   ]
  },
  {
   "cell_type": "code",
   "execution_count": 10,
   "metadata": {
    "collapsed": false
   },
   "outputs": [],
   "source": [
    "df['transition'] = df.apply(lambda row: (int(row['last']),row['artist']),axis=1)"
   ]
  },
  {
   "cell_type": "code",
   "execution_count": 23,
   "metadata": {
    "collapsed": false
   },
   "outputs": [],
   "source": [
    "vc = df['transition'].value_counts()\n",
    "i,j = zip(*vc.index.values)"
   ]
  },
  {
   "cell_type": "code",
   "execution_count": 24,
   "metadata": {
    "collapsed": true
   },
   "outputs": [],
   "source": [
    "mat = sparse.csr_matrix((vc.values,(i,j)))"
   ]
  },
  {
   "cell_type": "code",
   "execution_count": 25,
   "metadata": {
    "collapsed": false
   },
   "outputs": [
    {
     "data": {
      "text/plain": [
       "<39065015x39065015 sparse matrix of type '<type 'numpy.int64'>'\n",
       "\twith 18739 stored elements in Compressed Sparse Row format>"
      ]
     },
     "execution_count": 25,
     "metadata": {},
     "output_type": "execute_result"
    }
   ],
   "source": [
    "mat"
   ]
  },
  {
   "cell_type": "code",
   "execution_count": 36,
   "metadata": {
    "collapsed": false
   },
   "outputs": [
    {
     "data": {
      "text/html": [
       "<div>\n",
       "<table border=\"1\" class=\"dataframe\">\n",
       "  <thead>\n",
       "    <tr style=\"text-align: right;\">\n",
       "      <th></th>\n",
       "      <th>song</th>\n",
       "      <th>artist</th>\n",
       "      <th>ts</th>\n",
       "      <th>last</th>\n",
       "      <th>transition</th>\n",
       "    </tr>\n",
       "  </thead>\n",
       "  <tbody>\n",
       "    <tr>\n",
       "      <th>1</th>\n",
       "      <td>74220</td>\n",
       "      <td>11337</td>\n",
       "      <td>2007-02-24 22:59:07</td>\n",
       "      <td>405.0</td>\n",
       "      <td>(405, 11337)</td>\n",
       "    </tr>\n",
       "    <tr>\n",
       "      <th>2</th>\n",
       "      <td>64735</td>\n",
       "      <td>4536</td>\n",
       "      <td>2007-02-24 23:01:54</td>\n",
       "      <td>11337.0</td>\n",
       "      <td>(11337, 4536)</td>\n",
       "    </tr>\n",
       "    <tr>\n",
       "      <th>3</th>\n",
       "      <td>2021815</td>\n",
       "      <td>42105</td>\n",
       "      <td>2007-02-25 01:55:39</td>\n",
       "      <td>4536.0</td>\n",
       "      <td>(4536, 42105)</td>\n",
       "    </tr>\n",
       "    <tr>\n",
       "      <th>4</th>\n",
       "      <td>39064541</td>\n",
       "      <td>3014</td>\n",
       "      <td>2007-02-25 02:00:36</td>\n",
       "      <td>42105.0</td>\n",
       "      <td>(42105, 3014)</td>\n",
       "    </tr>\n",
       "    <tr>\n",
       "      <th>5</th>\n",
       "      <td>16973</td>\n",
       "      <td>1996</td>\n",
       "      <td>2007-02-25 02:03:25</td>\n",
       "      <td>3014.0</td>\n",
       "      <td>(3014, 1996)</td>\n",
       "    </tr>\n",
       "  </tbody>\n",
       "</table>\n",
       "</div>"
      ],
      "text/plain": [
       "       song  artist                   ts     last     transition\n",
       "1     74220   11337  2007-02-24 22:59:07    405.0   (405, 11337)\n",
       "2     64735    4536  2007-02-24 23:01:54  11337.0  (11337, 4536)\n",
       "3   2021815   42105  2007-02-25 01:55:39   4536.0  (4536, 42105)\n",
       "4  39064541    3014  2007-02-25 02:00:36  42105.0  (42105, 3014)\n",
       "5     16973    1996  2007-02-25 02:03:25   3014.0   (3014, 1996)"
      ]
     },
     "execution_count": 36,
     "metadata": {},
     "output_type": "execute_result"
    }
   ],
   "source": [
    "df.head()"
   ]
  },
  {
   "cell_type": "code",
   "execution_count": null,
   "metadata": {
    "collapsed": true
   },
   "outputs": [],
   "source": []
  }
 ],
 "metadata": {
  "anaconda-cloud": {},
  "kernelspec": {
   "display_name": "Python [conda root]",
   "language": "python",
   "name": "conda-root-py"
  },
  "language_info": {
   "codemirror_mode": {
    "name": "ipython",
    "version": 2
   },
   "file_extension": ".py",
   "mimetype": "text/x-python",
   "name": "python",
   "nbconvert_exporter": "python",
   "pygments_lexer": "ipython2",
   "version": "2.7.12"
  }
 },
 "nbformat": 4,
 "nbformat_minor": 0
}
